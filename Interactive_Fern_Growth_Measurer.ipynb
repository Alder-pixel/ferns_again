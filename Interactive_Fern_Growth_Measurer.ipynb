{
 "cells": [
  {
   "cell_type": "markdown",
   "id": "8c26ba43",
   "metadata": {},
   "source": [
    "# Imports"
   ]
  },
  {
   "cell_type": "code",
   "execution_count": null,
   "id": "8bc332f9",
   "metadata": {},
   "outputs": [],
   "source": [
    "import numpy as np\n",
    "import os\n",
    "import matplotlib.pyplot as plt\n",
    "import cv2\n",
    "import pandas as pd\n",
    "import re"
   ]
  },
  {
   "cell_type": "markdown",
   "id": "51bef90d",
   "metadata": {},
   "source": [
    "# Globals\n",
    "\n",
    "These parameters can be changed as seen fit."
   ]
  },
  {
   "cell_type": "code",
   "execution_count": null,
   "id": "572cda4d",
   "metadata": {},
   "outputs": [],
   "source": [
    "PATH = \"Cropped_Fern_Photos3\"  # Change this to the folder with your images in it\n",
    "\n",
    "COLOR_LOWER = (20, 40, 40)  # The lower threshold of hue, saturation, and brightness the computer picks up.\n",
    "COLOR_UPPER = (70, 255, 255) # The upper threshold of hue, saturation, and brightness the computer picks up.\n",
    "\n",
    "VISUALLY_VERIFY = True  # This toggle determines if the program will save the images\n",
    "                        # of what the computer sees for you to manually look at.\n",
    "VERIFY_PATH = \"Verify\"  # The folder name where you want to save the iamges for visually verifying.\n",
    "\n",
    "CSV_FILE_NAME = \"fern_data.csv\" # The name the csv will be saved under.\n",
    "\n",
    "# Hard coding\n",
    "COLOR_LOWER2 = (20, 60, 40)"
   ]
  },
  {
   "cell_type": "markdown",
   "id": "0f8c8a2b",
   "metadata": {},
   "source": [
    "# Code"
   ]
  },
  {
   "cell_type": "code",
   "execution_count": null,
   "id": "36aa390a",
   "metadata": {},
   "outputs": [],
   "source": [
    "# Create the information catchers\n",
    "ID, Date, Group, Replicate, coverage_percent = [], [], [], [], []\n",
    "\n",
    "# Loop over every image in the folder\n",
    "for file in os.listdir(PATH):\n",
    "    # Load in each image.\n",
    "    img_file = os.path.join(PATH, file)\n",
    "    img_bgr = cv2.imread(img_file)\n",
    "    \n",
    "    # Transform each image to RGB and HSV types.\n",
    "    img_rgb = cv2.cvtColor(img_bgr, cv2.COLOR_BGR2RGB)\n",
    "    img_hsv = cv2.cvtColor(img_bgr, cv2.COLOR_BGR2HSV)\n",
    "    \n",
    "    # Mask each image according to lower and upper color thresholds.\n",
    "    if file[:8] == \"03032023\" or file[:8] == \"20032023\":\n",
    "        green_mask = cv2.inRange(img_hsv, COLOR_LOWER2, COLOR_UPPER)\n",
    "    else:\n",
    "        green_mask = cv2.inRange(img_hsv, COLOR_LOWER, COLOR_UPPER)\n",
    "        \n",
    "    # Finds the lost transparency. Important for calculating percentage.\n",
    "    black_mask = cv2.inRange(img_rgb, (0,0,0), (0,0,0))\n",
    "    \n",
    "    # Gather all of the data\n",
    "    ID.append(file)\n",
    "    Date.append(file[:8])\n",
    "    Group.append(file[8:-6])\n",
    "    Replicate.append(file[-6])  # Only works if there are at most 9 replicates.\n",
    "    coverage_percent.append(100 * np.sum(green_mask/255) / np.sum(np.invert(black_mask)/255))\n",
    "    \n",
    "    # Visually Verify \n",
    "    if VISUALLY_VERIFY:\n",
    "        new_file_name = file[:-4] + \"_verify\" + file[-4:]\n",
    "        new_file_path = os.path.join(VERIFY_PATH, new_file_name)\n",
    "        \n",
    "        # This code generates three side by side pictures \n",
    "        # demonstrating what the computer sees.\n",
    "        \n",
    "        temp_img = img_rgb.copy()\n",
    "        result1 = cv2.bitwise_and(temp_img, temp_img, mask=np.invert(green_mask))\n",
    "        \n",
    "        temp_img = img_rgb.copy()\n",
    "        result2 = cv2.bitwise_and(temp_img, temp_img, mask=green_mask)\n",
    "        \n",
    "        fig, axs = plt.subplots(1, 3, figsize=(15,5))\n",
    "        axs[0].imshow(img_rgb)\n",
    "        axs[1].imshow(result1)\n",
    "        axs[2].imshow(result2)\n",
    "        for ax in axs:\n",
    "            ax.xaxis.set_visible(False)\n",
    "            ax.yaxis.set_visible(False)\n",
    "        fig.savefig(new_file_path, dpi=300)\n",
    "        plt.close(fig)\n",
    "    \n",
    "# Convert the information into a dataframe.\n",
    "data = pd.DataFrame({\"ID\":ID,\n",
    "                      \"Date\":Date,\n",
    "                      \"Group\":Group,\n",
    "                      \"Replicate\":Replicate,\n",
    "                      \"% Fern Coverage\":coverage_percent})\n",
    "data['Date'] = pd.to_datetime(data['Date'], format='%d%m%Y')\n",
    "data.to_csv(CSV_FILE_NAME, index=False)"
   ]
  }
 ],
 "metadata": {
  "kernelspec": {
   "display_name": "Python 3 (ipykernel)",
   "language": "python",
   "name": "python3"
  },
  "language_info": {
   "codemirror_mode": {
    "name": "ipython",
    "version": 3
   },
   "file_extension": ".py",
   "mimetype": "text/x-python",
   "name": "python",
   "nbconvert_exporter": "python",
   "pygments_lexer": "ipython3",
   "version": "3.9.7"
  }
 },
 "nbformat": 4,
 "nbformat_minor": 5
}
